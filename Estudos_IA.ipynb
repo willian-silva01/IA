{
  "nbformat": 4,
  "nbformat_minor": 0,
  "metadata": {
    "colab": {
      "provenance": [],
      "authorship_tag": "ABX9TyODbV0t8hHI+ymS85sFBmq4",
      "include_colab_link": true
    },
    "kernelspec": {
      "name": "python3",
      "display_name": "Python 3"
    },
    "language_info": {
      "name": "python"
    }
  },
  "cells": [
    {
      "cell_type": "markdown",
      "metadata": {
        "id": "view-in-github",
        "colab_type": "text"
      },
      "source": [
        "<a href=\"https://colab.research.google.com/github/willian-silva01/IA/blob/main/Estudos_IA.ipynb\" target=\"_parent\"><img src=\"https://colab.research.google.com/assets/colab-badge.svg\" alt=\"Open In Colab\"/></a>"
      ]
    },
    {
      "cell_type": "markdown",
      "source": [
        "AI de regressão Linear\n",
        "\n",
        "O que é regressão linear?\n",
        "É um algoritmo de Machine Learning supervisionado usado para prever valores contínuos. No seu caso, o valor a ser previsto é o preço da pizza, com base no diâmetro dela.\n",
        "\n",
        "🧠 Passos para resolver esse exercício\n",
        "Vamos seguir essa sequência:\n",
        "\n",
        "Importar bibliotecas necessárias.\n",
        "\n",
        "Organizar os dados (entrada e saída).\n",
        "\n",
        "Dividir os dados em treino e teste.\n",
        "\n",
        "Criar e treinar o modelo de regressão linear.\n",
        "\n",
        "Fazer a previsão.\n",
        "\n",
        "Calcular o erro médio (usando o MAE - erro absoluto médio)."
      ],
      "metadata": {
        "id": "CE04OUoKyv6O"
      }
    },
    {
      "cell_type": "markdown",
      "source": [],
      "metadata": {
        "id": "5ZYY-9TAy1m-"
      }
    },
    {
      "cell_type": "code",
      "source": [
        "# 1. Importar as bibliotecas necessárias\n",
        "from sklearn.linear_model import LinearRegression\n",
        "from sklearn.model_selection import train_test_split\n",
        "from sklearn.metrics import mean_absolute_error\n",
        "import numpy as np\n",
        "\n",
        "# 2. Dados fornecidos\n",
        "diametros = np.array([15, 20, 25, 30, 35]).reshape(-1, 1)  # Entrada (X)\n",
        "precos = np.array([20, 30, 40, 50, 60])                   # Saída (y)\n",
        "\n",
        "# 3. Dividir os dados em treino e teste (80% treino, 20% teste)\n",
        "X_treino, X_teste, y_treino, y_teste = train_test_split(diametros, precos, test_size=0.2, random_state=42)\n",
        "\n",
        "# 4. Criar e treinar o modelo\n",
        "modelo = LinearRegression()\n",
        "modelo.fit(X_treino, y_treino)\n",
        "\n",
        "# 5. Fazer previsão para pizza de 28 cm\n",
        "diametro_novo = np.array([[28]])\n",
        "preco_previsto = modelo.predict(diametro_novo)\n",
        "print(f'Preço previsto para pizza de 28 cm: R$ {preco_previsto[0]:.2f}')\n",
        "\n",
        "# 6. Fazer previsões para o conjunto de teste e calcular o erro\n",
        "y_pred = modelo.predict(X_teste)\n",
        "erro_medio = mean_absolute_error(y_teste, y_pred)\n",
        "print(f'Erro médio no teste: R$ {erro_medio:.2f}')\n"
      ],
      "metadata": {
        "colab": {
          "base_uri": "https://localhost:8080/"
        },
        "id": "LizqgsMkvakN",
        "outputId": "33fce185-726b-48c2-cc17-0a054e0d3356"
      },
      "execution_count": 3,
      "outputs": [
        {
          "output_type": "stream",
          "name": "stdout",
          "text": [
            "Preço previsto para pizza de 28 cm: R$ 46.00\n",
            "Erro médio no teste: R$ 0.00\n"
          ]
        }
      ]
    },
    {
      "cell_type": "markdown",
      "source": [
        "Analise de IA por classificação\n",
        "\n",
        "\n",
        "🧠 O que é Classificação?\n",
        "Classificação é quando o modelo tenta identificar a categoria de um item com base em características. No seu caso, o modelo vai classificar uma fruta como \"maçã\" ou \"laranja\" com base no peso.\n",
        "\n",
        "🎯 Problema\n",
        "Classificar uma fruta como maçã ou laranja com base no peso.\n",
        "\n",
        "Dados:\n",
        "\n",
        "Pesos: 100g, 120g, 150g, 170g\n",
        "\n",
        "Rótulos: maçã, maçã, laranja, laranja\n",
        "\n",
        "Objetivo: Classificar uma fruta de 140g"
      ],
      "metadata": {
        "id": "NuttdE36yM2W"
      }
    },
    {
      "cell_type": "code",
      "source": [
        "# 1. Importar as bibliotecas necessárias\n",
        "from sklearn.tree import DecisionTreeClassifier\n",
        "from sklearn.model_selection import train_test_split\n",
        "from sklearn.metrics import accuracy_score\n",
        "\n",
        "# 2. Definir os dados de entrada (peso) e saída (tipo da fruta)\n",
        "pesos = [[100], [120], [150], [170]]  # Formato 2D\n",
        "classes = [\"maçã\", \"maçã\", \"laranja\", \"laranja\"]\n",
        "\n",
        "# 3. Dividir os dados em treino e teste (75% treino, 25% teste)\n",
        "X_treino, X_teste, y_treino, y_teste = train_test_split(pesos, classes, test_size=0.25, random_state=42)\n",
        "\n",
        "# 4. Criar e treinar o modelo\n",
        "modelo = DecisionTreeClassifier()\n",
        "modelo.fit(X_treino, y_treino)\n",
        "\n",
        "# 5. Classificar uma fruta de 140g\n",
        "fruta = [[140]]\n",
        "classe = modelo.predict(fruta)\n",
        "print(f\"A fruta de 140g foi classificada como: {classe[0]}\")\n",
        "\n",
        "# 6. Avaliar a acurácia no teste\n",
        "y_pred = modelo.predict(X_teste)\n",
        "acuracia = accuracy_score(y_teste, y_pred)\n",
        "print(f\"Acurácia do modelo: {acuracia * 100:.2f}%\")\n"
      ],
      "metadata": {
        "colab": {
          "base_uri": "https://localhost:8080/"
        },
        "id": "nqEONmPoyMf6",
        "outputId": "6ad2d1ec-6509-4e65-b4ef-3dc28262551b"
      },
      "execution_count": 4,
      "outputs": [
        {
          "output_type": "stream",
          "name": "stdout",
          "text": [
            "A fruta de 140g foi classificada como: laranja\n",
            "Acurácia do modelo: 100.00%\n"
          ]
        }
      ]
    },
    {
      "cell_type": "markdown",
      "source": [
        "IA de árvore de decisão\n",
        "\n",
        "Objetivo\n",
        "Usar árvore de decisão (DecisionTreeClassifier) para prever se uma pessoa vai jogar tênis com base no clima.\n",
        "\n",
        "✅ Etapas exigidas\n",
        "Codificar os dados (chuva = 0, sol = 1).\n",
        "\n",
        "Dividir em treino (50%) e teste (50%).\n",
        "\n",
        "Treinar com .fit().\n",
        "\n",
        "Prever para o clima \"sol\".\n",
        "\n",
        "Gerar matriz de confusão.\n",
        "\n",
        "Relatar como os dados foram divididos, previsões e métricas."
      ],
      "metadata": {
        "id": "aXc_PXDEzPGS"
      }
    },
    {
      "cell_type": "code",
      "source": [
        "from sklearn.tree import DecisionTreeClassifier\n",
        "from sklearn.model_selection import train_test_split\n",
        "from sklearn.metrics import confusion_matrix, accuracy_score\n",
        "\n",
        "# 1. Dados\n",
        "clima = [[0], [1], [1], [0]]  # 0=chuva, 1=sol\n",
        "joga = [0, 1, 1, 0]  # 0=não joga, 1=joga\n",
        "\n",
        "# 2. Dividir em treino e teste (50% para cada)\n",
        "X_treino, X_teste, y_treino, y_teste = train_test_split(clima, joga, test_size=0.5, random_state=42)\n",
        "\n",
        "# 3. Treinar o modelo\n",
        "modelo = DecisionTreeClassifier()\n",
        "modelo.fit(X_treino, y_treino)\n",
        "\n",
        "# 4. Prever para o clima \"sol\"\n",
        "previsao_sol = modelo.predict([[1]])\n",
        "print(f\"Clima 'sol' -> Jogar tênis? {'Sim' if previsao_sol[0] == 1 else 'Não'}\")\n",
        "\n",
        "# 5. Prever valores do conjunto de teste\n",
        "y_pred = modelo.predict(X_teste)\n",
        "\n",
        "# 6. Calcular matriz de confusão e acurácia\n",
        "matriz = confusion_matrix(y_teste, y_pred)\n",
        "acuracia = accuracy_score(y_teste, y_pred)\n",
        "\n",
        "print(\"\\nMatriz de confusão:\")\n",
        "print(matriz)\n",
        "print(f\"Acurácia do modelo: {acuracia * 100:.2f}%\")\n"
      ],
      "metadata": {
        "colab": {
          "base_uri": "https://localhost:8080/"
        },
        "id": "uEDyGx4OzUsI",
        "outputId": "3ba74aa4-a8fd-494d-a4ce-f2201486c432"
      },
      "execution_count": 5,
      "outputs": [
        {
          "output_type": "stream",
          "name": "stdout",
          "text": [
            "Clima 'sol' -> Jogar tênis? Sim\n",
            "\n",
            "Matriz de confusão:\n",
            "[[1 0]\n",
            " [0 1]]\n",
            "Acurácia do modelo: 100.00%\n"
          ]
        }
      ]
    },
    {
      "cell_type": "markdown",
      "source": [
        "📝 Relatório (resumo)\n",
        "Divisão dos dados: 50% treino (2 amostras), 50% teste (2 amostras) usando train_test_split().\n",
        "\n",
        "Previsão para clima = sol: O modelo previu que sim, a pessoa jogaria tênis.\n",
        "\n",
        "Resultados da previsão no conjunto de teste:\n",
        "\n",
        "Todos os valores foram corretamente classificados (matriz de confusão com apenas valores na diagonal).\n",
        "\n",
        "Métrica de avaliação:\n",
        "\n",
        "Acurácia: 100%\n",
        "\n",
        "(Erro médio não se aplica aqui, pois isso é classificação, não regressão)\n",
        "\n"
      ],
      "metadata": {
        "id": "2Iq7chCizyDD"
      }
    }
  ]
}